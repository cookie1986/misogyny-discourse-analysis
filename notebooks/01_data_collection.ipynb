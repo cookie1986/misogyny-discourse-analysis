{
 "cells": [
  {
   "cell_type": "code",
   "execution_count": 1,
   "metadata": {},
   "outputs": [
    {
     "name": "stderr",
     "output_type": "stream",
     "text": [
      "/Users/darren.cook/Documents/Code/misogyny-discourse-analysis/venv/lib/python3.9/site-packages/urllib3/__init__.py:35: NotOpenSSLWarning: urllib3 v2 only supports OpenSSL 1.1.1+, currently the 'ssl' module is compiled with 'LibreSSL 2.8.3'. See: https://github.com/urllib3/urllib3/issues/3020\n",
      "  warnings.warn(\n"
     ]
    }
   ],
   "source": [
    "import os\n",
    "import sys\n",
    "\n",
    "# Add project ROOT to the python path\n",
    "sys.path.append(os.path.abspath('..'))\n",
    "\n",
    "from src.data_collection.reddit_api import get_reddit_instance"
   ]
  },
  {
   "cell_type": "code",
   "execution_count": 2,
   "metadata": {},
   "outputs": [
    {
     "name": "stdout",
     "output_type": "stream",
     "text": [
      "Good Reading for Men's Rights 1\n",
      "Russian disinformation is present on this subreddit. Check your sources. Mods can't do all the checking for you. Don't let yourself be manipulated into unwarranted outrage.\n",
      "\"Will you treat me. I'm suicidal!\" Study finds mental health professionals are less likely to treat suicidal men, and more likely to treat women.\n",
      "UK: Female teacher, 28, is charged with sexually abusing a child and sending pictures of her naked breasts as she appears in court\n",
      "\"if she said/did that, she's not a true feminist\"\n"
     ]
    }
   ],
   "source": [
    "reddit = get_reddit_instance()\n",
    "\n",
    "subreddit = reddit.subreddit('MensRights')\n",
    "\n",
    "for submission in subreddit.hot(limit=5):\n",
    "    print(submission.title)"
   ]
  }
 ],
 "metadata": {
  "kernelspec": {
   "display_name": "venv",
   "language": "python",
   "name": "python3"
  },
  "language_info": {
   "codemirror_mode": {
    "name": "ipython",
    "version": 3
   },
   "file_extension": ".py",
   "mimetype": "text/x-python",
   "name": "python",
   "nbconvert_exporter": "python",
   "pygments_lexer": "ipython3",
   "version": "3.9.6"
  }
 },
 "nbformat": 4,
 "nbformat_minor": 2
}
